{
 "cells": [
  {
   "cell_type": "markdown",
   "metadata": {},
   "source": [
    "## CLASSIFICATION LINÉAIRE"
   ]
  },
  {
   "cell_type": "markdown",
   "metadata": {},
   "source": [
    "#### IMPORTS"
   ]
  },
  {
   "cell_type": "code",
   "execution_count": 1,
   "metadata": {},
   "outputs": [],
   "source": [
    "import numpy as np\n",
    "import matplotlib.pyplot as plt\n",
    "import tensorflow as tf\n",
    "from tensorflow.keras.datasets import cifar10\n",
    "import tensorflow.keras.wrappers\n",
    "import cv2"
   ]
  },
  {
   "cell_type": "markdown",
   "metadata": {},
   "source": [
    "#### DATASET"
   ]
  },
  {
   "cell_type": "code",
   "execution_count": 2,
   "metadata": {},
   "outputs": [
    {
     "name": "stdout",
     "output_type": "stream",
     "text": [
      "Downloading data from https://www.cs.toronto.edu/~kriz/cifar-10-python.tar.gz\n",
      "170500096/170498071 [==============================] - 61s 0us/step\n",
      "(50000, 3072) (50000, 1) (10000, 3072) (10000, 1)\n"
     ]
    }
   ],
   "source": [
    "# load dataset\n",
    "(x_train, y_train), (x_test, y_test) = cifar10.load_data()\n",
    "\n",
    "# format data\n",
    "x_train = x_train.reshape((50000, 3072))\n",
    "x_train = x_train.astype(float)\n",
    "x_train = x_train / 255\n",
    "y_train = y_train.astype(int)\n",
    "\n",
    "x_test = x_test.reshape((10000, 3072))\n",
    "x_test = x_test.astype(float)\n",
    "x_test = x_test / 255\n",
    "y_test = y_test.astype(int)\n",
    "\n",
    "print(x_train.shape, y_train.shape, x_test.shape, y_test.shape)"
   ]
  },
  {
   "cell_type": "markdown",
   "metadata": {},
   "source": [
    "#### MODEL"
   ]
  },
  {
   "cell_type": "code",
   "execution_count": 3,
   "metadata": {},
   "outputs": [
    {
     "name": "stdout",
     "output_type": "stream",
     "text": [
      "INFO:tensorflow:Using default config.\n",
      "INFO:tensorflow:Using config: {'_model_dir': 'linear', '_tf_random_seed': None, '_save_summary_steps': 100, '_save_checkpoints_steps': None, '_save_checkpoints_secs': 600, '_session_config': allow_soft_placement: true\n",
      "graph_options {\n",
      "  rewrite_options {\n",
      "    meta_optimizer_iterations: ONE\n",
      "  }\n",
      "}\n",
      ", '_keep_checkpoint_max': 5, '_keep_checkpoint_every_n_hours': 10000, '_log_step_count_steps': 100, '_train_distribute': None, '_device_fn': None, '_protocol': None, '_eval_distribute': None, '_experimental_distribute': None, '_service': None, '_cluster_spec': <tensorflow.python.training.server_lib.ClusterSpec object at 0x000001E8E226B9B0>, '_task_type': 'worker', '_task_id': 0, '_global_id_in_cluster': 0, '_master': '', '_evaluation_master': '', '_is_chief': True, '_num_ps_replicas': 0, '_num_worker_replicas': 1}\n"
     ]
    }
   ],
   "source": [
    "# create model\n",
    "feature_name = \"cifar10_features\"\n",
    "features_column = [tf.feature_column.numeric_column(feature_name, shape=[3072])]\n",
    "classifier = tf.estimator.LinearClassifier(feature_columns=features_column, n_classes=10, model_dir=\"linear\")"
   ]
  },
  {
   "cell_type": "markdown",
   "metadata": {},
   "source": [
    "#### ENTRAINEMENT"
   ]
  },
  {
   "cell_type": "code",
   "execution_count": 4,
   "metadata": {},
   "outputs": [],
   "source": [
    "# create input\n",
    "def input_fn(x_train, y_train):\n",
    "    def _fn():\n",
    "        features = {feature_name: tf.constant(x_train)}\n",
    "        label = tf.constant(y_train)\n",
    "        return features, label\n",
    "    return _fn"
   ]
  },
  {
   "cell_type": "code",
   "execution_count": 5,
   "metadata": {
    "scrolled": false
   },
   "outputs": [
    {
     "name": "stdout",
     "output_type": "stream",
     "text": [
      "WARNING:tensorflow:From c:\\users\\dyor\\miniconda3\\envs\\tfcpu\\lib\\site-packages\\tensorflow\\python\\framework\\op_def_library.py:263: colocate_with (from tensorflow.python.framework.ops) is deprecated and will be removed in a future version.\n",
      "Instructions for updating:\n",
      "Colocations handled automatically by placer.\n",
      "INFO:tensorflow:Calling model_fn.\n",
      "WARNING:tensorflow:From c:\\users\\dyor\\miniconda3\\envs\\tfcpu\\lib\\site-packages\\tensorflow\\python\\feature_column\\feature_column_v2.py:2703: to_float (from tensorflow.python.ops.math_ops) is deprecated and will be removed in a future version.\n",
      "Instructions for updating:\n",
      "Use tf.cast instead.\n",
      "INFO:tensorflow:Done calling model_fn.\n",
      "INFO:tensorflow:Create CheckpointSaverHook.\n",
      "INFO:tensorflow:Graph was finalized.\n",
      "INFO:tensorflow:Running local_init_op.\n",
      "INFO:tensorflow:Done running local_init_op.\n",
      "INFO:tensorflow:Saving checkpoints for 0 into linear\\model.ckpt.\n",
      "INFO:tensorflow:loss = 115130.19, step = 1\n",
      "INFO:tensorflow:global_step/sec: 0.553227\n",
      "INFO:tensorflow:loss = 1118871.9, step = 101 (180.767 sec)\n",
      "INFO:tensorflow:global_step/sec: 1.58717\n",
      "INFO:tensorflow:loss = 786569.5, step = 201 (62.952 sec)\n",
      "INFO:tensorflow:global_step/sec: 1.60728\n",
      "INFO:tensorflow:loss = 635398.3, step = 301 (62.218 sec)\n",
      "INFO:tensorflow:global_step/sec: 1.7574\n",
      "INFO:tensorflow:loss = 393524.62, step = 401 (56.897 sec)\n",
      "INFO:tensorflow:global_step/sec: 1.75203\n",
      "INFO:tensorflow:loss = 530058.6, step = 501 (57.077 sec)\n",
      "INFO:tensorflow:global_step/sec: 1.63066\n",
      "INFO:tensorflow:loss = 449609.5, step = 601 (61.331 sec)\n",
      "INFO:tensorflow:Saving checkpoints for 620 into linear\\model.ckpt.\n",
      "INFO:tensorflow:global_step/sec: 1.17418\n",
      "INFO:tensorflow:loss = 353003.84, step = 701 (85.161 sec)\n",
      "INFO:tensorflow:global_step/sec: 1.79301\n",
      "INFO:tensorflow:loss = 222659.58, step = 801 (55.779 sec)\n",
      "INFO:tensorflow:global_step/sec: 1.75423\n",
      "INFO:tensorflow:loss = 346381.0, step = 901 (57.002 sec)\n",
      "INFO:tensorflow:Saving checkpoints for 1000 into linear\\model.ckpt.\n",
      "INFO:tensorflow:Loss for final step: 304361.5.\n"
     ]
    },
    {
     "data": {
      "text/plain": [
       "<tensorflow_estimator.python.estimator.canned.linear.LinearClassifier at 0x1e8e226b6d8>"
      ]
     },
     "execution_count": 5,
     "metadata": {},
     "output_type": "execute_result"
    }
   ],
   "source": [
    "classifier.train(input_fn=input_fn(x_train, y_train), steps=1000)"
   ]
  },
  {
   "cell_type": "markdown",
   "metadata": {},
   "source": [
    "#### EVALUATION"
   ]
  },
  {
   "cell_type": "code",
   "execution_count": 6,
   "metadata": {},
   "outputs": [
    {
     "name": "stdout",
     "output_type": "stream",
     "text": [
      "INFO:tensorflow:Calling model_fn.\n",
      "INFO:tensorflow:Done calling model_fn.\n",
      "INFO:tensorflow:Starting evaluation at 2020-01-02T19:46:01Z\n",
      "INFO:tensorflow:Graph was finalized.\n",
      "WARNING:tensorflow:From c:\\users\\dyor\\miniconda3\\envs\\tfcpu\\lib\\site-packages\\tensorflow\\python\\training\\saver.py:1266: checkpoint_exists (from tensorflow.python.training.checkpoint_management) is deprecated and will be removed in a future version.\n",
      "Instructions for updating:\n",
      "Use standard file APIs to check for files with this prefix.\n",
      "INFO:tensorflow:Restoring parameters from linear\\model.ckpt-1000\n",
      "INFO:tensorflow:Running local_init_op.\n",
      "INFO:tensorflow:Done running local_init_op.\n",
      "INFO:tensorflow:Evaluation [100/1000]\n",
      "INFO:tensorflow:Evaluation [200/1000]\n",
      "INFO:tensorflow:Evaluation [300/1000]\n",
      "INFO:tensorflow:Evaluation [400/1000]\n",
      "INFO:tensorflow:Evaluation [500/1000]\n",
      "INFO:tensorflow:Evaluation [600/1000]\n",
      "INFO:tensorflow:Evaluation [700/1000]\n",
      "INFO:tensorflow:Evaluation [800/1000]\n",
      "INFO:tensorflow:Evaluation [900/1000]\n",
      "INFO:tensorflow:Evaluation [1000/1000]\n",
      "INFO:tensorflow:Finished evaluation at 2020-01-02-19:47:46\n",
      "INFO:tensorflow:Saving dict for global step 1000: accuracy = 0.281, average_loss = 7.0516376, global_step = 1000, loss = 70516.375\n",
      "INFO:tensorflow:Saving 'checkpoint_path' summary for global step 1000: linear\\model.ckpt-1000\n",
      "\n",
      "Accuracy: 0.2809999883174896\n"
     ]
    }
   ],
   "source": [
    "accuracy_score = classifier.evaluate(input_fn=input_fn(x_test, y_test), steps=1000)[\"accuracy\"]\n",
    "print(\"\\nAccuracy: {0}\".format(accuracy_score))"
   ]
  },
  {
   "cell_type": "code",
   "execution_count": null,
   "metadata": {},
   "outputs": [],
   "source": []
  }
 ],
 "metadata": {
  "kernelspec": {
   "display_name": "Python 3",
   "language": "python",
   "name": "python3"
  },
  "language_info": {
   "codemirror_mode": {
    "name": "ipython",
    "version": 3
   },
   "file_extension": ".py",
   "mimetype": "text/x-python",
   "name": "python",
   "nbconvert_exporter": "python",
   "pygments_lexer": "ipython3",
   "version": "3.7.5"
  }
 },
 "nbformat": 4,
 "nbformat_minor": 2
}
